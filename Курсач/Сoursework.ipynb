{
 "cells": [
  {
   "cell_type": "markdown",
   "id": "fb08d888",
   "metadata": {},
   "source": [
    "Курсовая работа по дисциплине: Паровые и Газовые турбины."
   ]
  },
  {
   "cell_type": "markdown",
   "id": "4f9d3a32",
   "metadata": {},
   "source": [
    "| ФИО | Вариант | Тип турбины   | P0, МПа | t0, °C | Pпп, МПа | tпп, °C | Pк, кПа  | tпв,°C | Nэ, МВт | Z, шт | dр.с., м | n, c-1 | H0, кДж/кг |\n",
    "|------|------|------|------|------|------|------|------|------|------|------|------|------|------|\n",
    "|   Бонадыков Никита Михайлович   | 2 | К-800-23,5 ЛМЗ | 24 | 555 | 3,66 | 552 | 3,4 | 271 | 840 | 8 | 1,2 | 60 | 90 -110 |"
   ]
  },
  {
   "cell_type": "code",
   "execution_count": 115,
   "id": "d54da98d",
   "metadata": {},
   "outputs": [],
   "source": [
    "#Импорт библиотек\n",
    "import iapws\n",
    "from iapws import IAPWS97 as gas\n",
    "import matplotlib.pyplot as plt\n",
    "import numpy as np"
   ]
  },
  {
   "cell_type": "code",
   "execution_count": 116,
   "id": "8208d863",
   "metadata": {},
   "outputs": [],
   "source": [
    "#Инициализация параметров расчета  \n",
    "MPa = 10 ** 6\n",
    "kPa = 10 ** 3\n",
    "unit = 1 / MPa\n",
    "to_kelvin = lambda x: x + 273.15 if x else None"
   ]
  },
  {
   "cell_type": "code",
   "execution_count": 117,
   "id": "e696ea56",
   "metadata": {},
   "outputs": [],
   "source": [
    "#Дано\n",
    "electrical_power = 840 * (10 ** 6)    \n",
    "p0 = 24 * MPa\n",
    "t0 = 555\n",
    "pk = 3.4 * kPa\n",
    "p_middle = 3.4 * MPa\n",
    "t_middle = 552\n",
    "t_feed_water = 271\n",
    "p_feed_water = 1.4 * p0\n",
    "z = 8\n",
    "internal_efficiency = 0.85\n",
    "mechanical_efficiency = 0.992\n",
    "generator_efficiency = 0.99"
   ]
  },
  {
   "cell_type": "code",
   "execution_count": 118,
   "id": "8f45e3d7",
   "metadata": {},
   "outputs": [],
   "source": [
    "#Расчет погрешности \n",
    "delta_p0 = 0.05 * p0\n",
    "delta_p_middle = 0.1 * p_middle\n",
    "delta_p_1 = 0.03 * p_middle\n",
    "#Расчет реальных параметров точек\n",
    "real_p0 = p0 - delta_p0\n",
    "real_p1t = p_middle + delta_p_middle\n",
    "real_p_middle = p_middle - delta_p_1"
   ]
  },
  {
   "cell_type": "code",
   "execution_count": 119,
   "id": "2bb4cd4f",
   "metadata": {},
   "outputs": [],
   "source": [
    "#Расчет начальных точек \n",
    "_point_0 = gas(P = p0 * unit, T=to_kelvin(t0))\n",
    "point_0 = gas(P=real_p0 * unit, h=_point_0.h)\n",
    "point_1t = gas(P=real_p1t * unit, s=_point_0.s)\n",
    "\n",
    "hp_heat_drop = (_point_0.h - point_1t.h) * internal_efficiency\n",
    "h_1 = point_0.h - hp_heat_drop\n",
    "point_1 = gas(P=real_p1t * unit, h=h_1)"
   ]
  },
  {
   "cell_type": "code",
   "execution_count": 120,
   "id": "d10999a2",
   "metadata": {},
   "outputs": [],
   "source": [
    "#Расчет точек промперегрева\n",
    "_point_middle = gas(P=p_middle * unit, T=to_kelvin(t_middle))\n",
    "point_middle = gas(P=real_p_middle * unit, h=_point_middle.h)\n",
    "point_2t = gas(P=pk * unit, s=_point_middle.s)\n",
    "\n",
    "lp_heat_drop = (_point_middle.h - point_2t.h) * internal_efficiency\n",
    "h_2 = point_middle.h - lp_heat_drop\n",
    "point_2 = gas(P=pk * unit, h=h_2)\n",
    "\n",
    "efficiency_hp = (_point_0.h - point_1.h) / (_point_0.h - point_1t.h)\n",
    "efficiency_lp = (_point_middle.h - point_2.h) / (_point_middle.h - point_2t.h)"
   ]
  },
  {
   "cell_type": "code",
   "execution_count": 121,
   "id": "eb3d9e38",
   "metadata": {},
   "outputs": [],
   "source": [
    "#Расчет точек питательной воды и воды после конденсатора \n",
    "point_k_water = gas(P=pk * unit, x=0)\n",
    "point_feed_water = gas(P=p_feed_water * unit, T=to_kelvin(t_feed_water))"
   ]
  },
  {
   "cell_type": "code",
   "execution_count": 122,
   "id": "d4778dfd",
   "metadata": {},
   "outputs": [],
   "source": [
    "numenator_without = point_2.T * (_point_middle.s - point_k_water.s)\n",
    "denumenator_without = (point_0.h - point_1t.h) + (point_middle.h - point_k_water.h)\n",
    "without_part = 1 - (numenator_without / denumenator_without)\n",
    "\n",
    "numenator_infinity = point_2.T * (_point_middle.s - point_feed_water.s)\n",
    "denumenator_infinity = (point_0.h - point_1t.h) + (point_middle.h - point_feed_water.h)\n",
    "infinity_part = 1 - (numenator_infinity / denumenator_infinity)\n",
    "\n",
    "ksi_infinity = 1 - (without_part / infinity_part)\n"
   ]
  },
  {
   "cell_type": "code",
   "execution_count": 123,
   "id": "45f3d496",
   "metadata": {},
   "outputs": [],
   "source": [
    "coeff = (point_feed_water.T - point_2.T) / (to_kelvin(374.2) - point_2.T)"
   ]
  },
  {
   "cell_type": "code",
   "execution_count": 124,
   "id": "df0c061c",
   "metadata": {},
   "outputs": [],
   "source": [
    "ksi = 0.9 * ksi_infinity"
   ]
  },
  {
   "cell_type": "code",
   "execution_count": 125,
   "id": "8c1975cc",
   "metadata": {},
   "outputs": [],
   "source": [
    "eff_num = hp_heat_drop + lp_heat_drop\n",
    "eff_denum = hp_heat_drop + (point_middle.h - point_k_water.h)\n",
    "#Подсчет эфективности \n",
    "efficiency = (eff_num / eff_denum) * (1 / (1 - ksi))"
   ]
  },
  {
   "cell_type": "code",
   "execution_count": 126,
   "id": "105d07c3",
   "metadata": {},
   "outputs": [],
   "source": [
    "estimated_heat_drop = efficiency * ((point_0.h - point_feed_water.h) + (point_middle.h - point_1.h))"
   ]
  },
  {
   "cell_type": "code",
   "execution_count": 127,
   "id": "f4880ae2",
   "metadata": {},
   "outputs": [],
   "source": [
    "#Расчет расхода в турбину на входе\n",
    "inlet_mass_flow = electrical_power / (estimated_heat_drop * 1000 * mechanical_efficiency * generator_efficiency)"
   ]
  },
  {
   "cell_type": "code",
   "execution_count": 128,
   "id": "c2388670",
   "metadata": {},
   "outputs": [],
   "source": [
    "#Расчет расхода в конденсатор\n",
    "condenser_mass_flow = (\n",
    "    electrical_power /\n",
    "    ((point_2.h - point_k_water.h) * 1000 * mechanical_efficiency * generator_efficiency) * ((1 / efficiency) - 1)\n",
    ")"
   ]
  },
  {
   "cell_type": "code",
   "execution_count": 129,
   "id": "357d0c3d",
   "metadata": {},
   "outputs": [
    {
     "name": "stdout",
     "output_type": "stream",
     "text": [
      "Массовый расход в турбину на входе 659.3819522129577\n",
      "Массовый расход в конденсатор: 434.98665331279125\n"
     ]
    }
   ],
   "source": [
    "print(\"Массовый расход в турбину на входе\", inlet_mass_flow)\n",
    "print(\"Массовый расход в конденсатор:\", condenser_mass_flow)"
   ]
  },
  {
   "cell_type": "code",
   "execution_count": 130,
   "id": "479d078a",
   "metadata": {},
   "outputs": [
    {
     "data": {
      "image/png": "[encoded data removed]",
      "text/plain": [
       "<Figure size 640x480 with 1 Axes>"
      ]
     },
     "metadata": {},
     "output_type": "display_data"
    }
   ],
   "source": [
    "x1 = [_point_0.s,point_0.s,point_1.s]\n",
    "y1 = [_point_0.h,point_0.h,point_1.h]\n",
    "\n",
    "x2 = [_point_middle.s,point_middle.s,point_2.s]\n",
    "y2 = [_point_middle.h,point_middle.h,point_2.h]\n",
    "plt.xlabel(\"S\")\n",
    "plt.ylabel(\"H\")\n",
    "plt.plot(x1, y1)\n",
    "plt.plot(x2, y2)\n",
    "plt.grid()\n",
    "plt.show()"
   ]
  },
  {
   "cell_type": "code",
   "execution_count": null,
   "id": "c238d21e",
   "metadata": {},
   "outputs": [],
   "source": []
  }
 ],
 "metadata": {
  "kernelspec": {
   "display_name": "Python 3 (ipykernel)",
   "language": "python",
   "name": "python3"
  },
  "language_info": {
   "codemirror_mode": {
    "name": "ipython",
    "version": 3
   },
   "file_extension": ".py",
   "mimetype": "text/x-python",
   "name": "python",
   "nbconvert_exporter": "python",
   "pygments_lexer": "ipython3",
   "version": "3.9.13"
  }
 },
 "nbformat": 4,
 "nbformat_minor": 5
}
